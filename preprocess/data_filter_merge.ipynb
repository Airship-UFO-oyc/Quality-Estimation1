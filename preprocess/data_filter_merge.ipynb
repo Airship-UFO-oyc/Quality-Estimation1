{
 "cells": [
  {
   "cell_type": "code",
   "execution_count": 1,
   "metadata": {},
   "outputs": [],
   "source": [
    "# filtered the source and target sentence with length <=70 and the length ratio between 1/3 to 3\n",
    "def data_filter(en_path,de_path,o_en_path,o_de_path):\n",
    "    f_en = open(en_path,'r')\n",
    "    f_de = open(de_path,'r')\n",
    "    fout_en = open(o_en_path,'w')\n",
    "    fout_de = open(o_de_path,'w')\n",
    "    for l_en,l_de in zip(f_en,f_de):\n",
    "        len_en = len(l_en.strip().split())\n",
    "        len_de = len(l_de.strip().split())\n",
    "        if len_en<=70 and len_de<=70 and len_en>0 and len_de>0:\n",
    "            if (len_en>=len_de and 1.0*len_en/len_de<=3) or \\\n",
    "            (len_en<len_de and 1.0*len_de/len_en<=3):\n",
    "                fout_en.write(l_en)\n",
    "                fout_de.write(l_de)\n",
    "    f_en.close()\n",
    "    f_de.close()\n",
    "    fout_en.close()\n",
    "    fout_de.close()"
   ]
  },
  {
   "cell_type": "code",
   "execution_count": 2,
   "metadata": {},
   "outputs": [],
   "source": [
    "# 合并数据集，输入是en-de\n",
    "def merge_file(src_file,tgt_file):\n",
    "    fin_src = open(src_file,'r')\n",
    "    fin_tgt = open(tgt_file,'r')\n",
    "    fout_src = open('./parallel_data/2017/train.en','a')\n",
    "    fout_tgt = open('./parallel_data/2017/train.de','a')\n",
    "    for line1,line2 in zip(fin_src,fin_tgt):\n",
    "        fout_src.write(line1.strip()+'\\n')\n",
    "        fout_tgt.write(line2.strip()+'\\n')\n",
    "    fin_src.close()\n",
    "    fin_tgt.close()\n",
    "    fout_src.close()\n",
    "    fout_tgt.close()"
   ]
  },
  {
   "cell_type": "code",
   "execution_count": null,
   "metadata": {},
   "outputs": [],
   "source": []
  }
 ],
 "metadata": {
  "kernelspec": {
   "display_name": "Python 3",
   "language": "python",
   "name": "python3"
  },
  "language_info": {
   "codemirror_mode": {
    "name": "ipython",
    "version": 3
   },
   "file_extension": ".py",
   "mimetype": "text/x-python",
   "name": "python",
   "nbconvert_exporter": "python",
   "pygments_lexer": "ipython3",
   "version": "3.6.8"
  }
 },
 "nbformat": 4,
 "nbformat_minor": 2
}
